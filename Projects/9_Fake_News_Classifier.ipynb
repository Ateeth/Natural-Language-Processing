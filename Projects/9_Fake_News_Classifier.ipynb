{
 "cells": [
  {
   "attachments": {},
   "cell_type": "markdown",
   "metadata": {},
   "source": [
    "## Fake news classifier"
   ]
  },
  {
   "cell_type": "code",
   "execution_count": 49,
   "metadata": {},
   "outputs": [],
   "source": [
    "import pandas as pd"
   ]
  },
  {
   "cell_type": "code",
   "execution_count": 50,
   "metadata": {},
   "outputs": [],
   "source": [
    "df = pd.read_csv('../datasets/train_fake_news.csv')"
   ]
  },
  {
   "cell_type": "code",
   "execution_count": 51,
   "metadata": {},
   "outputs": [
    {
     "data": {
      "text/html": [
       "<div>\n",
       "<style scoped>\n",
       "    .dataframe tbody tr th:only-of-type {\n",
       "        vertical-align: middle;\n",
       "    }\n",
       "\n",
       "    .dataframe tbody tr th {\n",
       "        vertical-align: top;\n",
       "    }\n",
       "\n",
       "    .dataframe thead th {\n",
       "        text-align: right;\n",
       "    }\n",
       "</style>\n",
       "<table border=\"1\" class=\"dataframe\">\n",
       "  <thead>\n",
       "    <tr style=\"text-align: right;\">\n",
       "      <th></th>\n",
       "      <th>id</th>\n",
       "      <th>title</th>\n",
       "      <th>author</th>\n",
       "      <th>text</th>\n",
       "      <th>label</th>\n",
       "    </tr>\n",
       "  </thead>\n",
       "  <tbody>\n",
       "    <tr>\n",
       "      <th>0</th>\n",
       "      <td>0</td>\n",
       "      <td>House Dem Aide: We Didn’t Even See Comey’s Let...</td>\n",
       "      <td>Darrell Lucus</td>\n",
       "      <td>House Dem Aide: We Didn’t Even See Comey’s Let...</td>\n",
       "      <td>1</td>\n",
       "    </tr>\n",
       "    <tr>\n",
       "      <th>1</th>\n",
       "      <td>1</td>\n",
       "      <td>FLYNN: Hillary Clinton, Big Woman on Campus - ...</td>\n",
       "      <td>Daniel J. Flynn</td>\n",
       "      <td>Ever get the feeling your life circles the rou...</td>\n",
       "      <td>0</td>\n",
       "    </tr>\n",
       "    <tr>\n",
       "      <th>2</th>\n",
       "      <td>2</td>\n",
       "      <td>Why the Truth Might Get You Fired</td>\n",
       "      <td>Consortiumnews.com</td>\n",
       "      <td>Why the Truth Might Get You Fired October 29, ...</td>\n",
       "      <td>1</td>\n",
       "    </tr>\n",
       "    <tr>\n",
       "      <th>3</th>\n",
       "      <td>3</td>\n",
       "      <td>15 Civilians Killed In Single US Airstrike Hav...</td>\n",
       "      <td>Jessica Purkiss</td>\n",
       "      <td>Videos 15 Civilians Killed In Single US Airstr...</td>\n",
       "      <td>1</td>\n",
       "    </tr>\n",
       "    <tr>\n",
       "      <th>4</th>\n",
       "      <td>4</td>\n",
       "      <td>Iranian woman jailed for fictional unpublished...</td>\n",
       "      <td>Howard Portnoy</td>\n",
       "      <td>Print \\nAn Iranian woman has been sentenced to...</td>\n",
       "      <td>1</td>\n",
       "    </tr>\n",
       "  </tbody>\n",
       "</table>\n",
       "</div>"
      ],
      "text/plain": [
       "   id                                              title              author  \\\n",
       "0   0  House Dem Aide: We Didn’t Even See Comey’s Let...       Darrell Lucus   \n",
       "1   1  FLYNN: Hillary Clinton, Big Woman on Campus - ...     Daniel J. Flynn   \n",
       "2   2                  Why the Truth Might Get You Fired  Consortiumnews.com   \n",
       "3   3  15 Civilians Killed In Single US Airstrike Hav...     Jessica Purkiss   \n",
       "4   4  Iranian woman jailed for fictional unpublished...      Howard Portnoy   \n",
       "\n",
       "                                                text  label  \n",
       "0  House Dem Aide: We Didn’t Even See Comey’s Let...      1  \n",
       "1  Ever get the feeling your life circles the rou...      0  \n",
       "2  Why the Truth Might Get You Fired October 29, ...      1  \n",
       "3  Videos 15 Civilians Killed In Single US Airstr...      1  \n",
       "4  Print \\nAn Iranian woman has been sentenced to...      1  "
      ]
     },
     "execution_count": 51,
     "metadata": {},
     "output_type": "execute_result"
    }
   ],
   "source": [
    "df.head()"
   ]
  },
  {
   "attachments": {},
   "cell_type": "markdown",
   "metadata": {},
   "source": [
    "#### Get independent and dependent features"
   ]
  },
  {
   "cell_type": "code",
   "execution_count": 52,
   "metadata": {},
   "outputs": [],
   "source": [
    "X = df.drop('label' , axis = 1)"
   ]
  },
  {
   "cell_type": "code",
   "execution_count": 53,
   "metadata": {},
   "outputs": [
    {
     "data": {
      "text/html": [
       "<div>\n",
       "<style scoped>\n",
       "    .dataframe tbody tr th:only-of-type {\n",
       "        vertical-align: middle;\n",
       "    }\n",
       "\n",
       "    .dataframe tbody tr th {\n",
       "        vertical-align: top;\n",
       "    }\n",
       "\n",
       "    .dataframe thead th {\n",
       "        text-align: right;\n",
       "    }\n",
       "</style>\n",
       "<table border=\"1\" class=\"dataframe\">\n",
       "  <thead>\n",
       "    <tr style=\"text-align: right;\">\n",
       "      <th></th>\n",
       "      <th>id</th>\n",
       "      <th>title</th>\n",
       "      <th>author</th>\n",
       "      <th>text</th>\n",
       "    </tr>\n",
       "  </thead>\n",
       "  <tbody>\n",
       "    <tr>\n",
       "      <th>0</th>\n",
       "      <td>0</td>\n",
       "      <td>House Dem Aide: We Didn’t Even See Comey’s Let...</td>\n",
       "      <td>Darrell Lucus</td>\n",
       "      <td>House Dem Aide: We Didn’t Even See Comey’s Let...</td>\n",
       "    </tr>\n",
       "    <tr>\n",
       "      <th>1</th>\n",
       "      <td>1</td>\n",
       "      <td>FLYNN: Hillary Clinton, Big Woman on Campus - ...</td>\n",
       "      <td>Daniel J. Flynn</td>\n",
       "      <td>Ever get the feeling your life circles the rou...</td>\n",
       "    </tr>\n",
       "    <tr>\n",
       "      <th>2</th>\n",
       "      <td>2</td>\n",
       "      <td>Why the Truth Might Get You Fired</td>\n",
       "      <td>Consortiumnews.com</td>\n",
       "      <td>Why the Truth Might Get You Fired October 29, ...</td>\n",
       "    </tr>\n",
       "    <tr>\n",
       "      <th>3</th>\n",
       "      <td>3</td>\n",
       "      <td>15 Civilians Killed In Single US Airstrike Hav...</td>\n",
       "      <td>Jessica Purkiss</td>\n",
       "      <td>Videos 15 Civilians Killed In Single US Airstr...</td>\n",
       "    </tr>\n",
       "    <tr>\n",
       "      <th>4</th>\n",
       "      <td>4</td>\n",
       "      <td>Iranian woman jailed for fictional unpublished...</td>\n",
       "      <td>Howard Portnoy</td>\n",
       "      <td>Print \\nAn Iranian woman has been sentenced to...</td>\n",
       "    </tr>\n",
       "  </tbody>\n",
       "</table>\n",
       "</div>"
      ],
      "text/plain": [
       "   id                                              title              author  \\\n",
       "0   0  House Dem Aide: We Didn’t Even See Comey’s Let...       Darrell Lucus   \n",
       "1   1  FLYNN: Hillary Clinton, Big Woman on Campus - ...     Daniel J. Flynn   \n",
       "2   2                  Why the Truth Might Get You Fired  Consortiumnews.com   \n",
       "3   3  15 Civilians Killed In Single US Airstrike Hav...     Jessica Purkiss   \n",
       "4   4  Iranian woman jailed for fictional unpublished...      Howard Portnoy   \n",
       "\n",
       "                                                text  \n",
       "0  House Dem Aide: We Didn’t Even See Comey’s Let...  \n",
       "1  Ever get the feeling your life circles the rou...  \n",
       "2  Why the Truth Might Get You Fired October 29, ...  \n",
       "3  Videos 15 Civilians Killed In Single US Airstr...  \n",
       "4  Print \\nAn Iranian woman has been sentenced to...  "
      ]
     },
     "execution_count": 53,
     "metadata": {},
     "output_type": "execute_result"
    }
   ],
   "source": [
    "X.head()"
   ]
  },
  {
   "cell_type": "code",
   "execution_count": 54,
   "metadata": {},
   "outputs": [],
   "source": [
    "y = df['label']"
   ]
  },
  {
   "cell_type": "code",
   "execution_count": 55,
   "metadata": {},
   "outputs": [
    {
     "data": {
      "text/plain": [
       "0    1\n",
       "1    0\n",
       "2    1\n",
       "3    1\n",
       "4    1\n",
       "Name: label, dtype: int64"
      ]
     },
     "execution_count": 55,
     "metadata": {},
     "output_type": "execute_result"
    }
   ],
   "source": [
    "y.head()"
   ]
  },
  {
   "cell_type": "code",
   "execution_count": 56,
   "metadata": {},
   "outputs": [
    {
     "data": {
      "text/plain": [
       "(20800, 5)"
      ]
     },
     "execution_count": 56,
     "metadata": {},
     "output_type": "execute_result"
    }
   ],
   "source": [
    "df.shape"
   ]
  },
  {
   "attachments": {},
   "cell_type": "markdown",
   "metadata": {},
   "source": [
    "### Count Vectorizer OR TFIdf can also be applied"
   ]
  },
  {
   "cell_type": "code",
   "execution_count": 57,
   "metadata": {},
   "outputs": [],
   "source": [
    "from sklearn.feature_extraction.text import CountVectorizer , TfidfVectorizer , HashingVectorizer"
   ]
  },
  {
   "attachments": {},
   "cell_type": "markdown",
   "metadata": {},
   "source": [
    "Drop NaN values"
   ]
  },
  {
   "cell_type": "code",
   "execution_count": 58,
   "metadata": {},
   "outputs": [],
   "source": [
    "df = df.dropna()"
   ]
  },
  {
   "cell_type": "code",
   "execution_count": 59,
   "metadata": {},
   "outputs": [],
   "source": [
    "messages = df.copy()"
   ]
  },
  {
   "attachments": {},
   "cell_type": "markdown",
   "metadata": {},
   "source": [
    "Reset indexes after drop NaN values"
   ]
  },
  {
   "cell_type": "code",
   "execution_count": 60,
   "metadata": {},
   "outputs": [],
   "source": [
    "messages.reset_index(inplace=True)"
   ]
  },
  {
   "cell_type": "code",
   "execution_count": 61,
   "metadata": {},
   "outputs": [],
   "source": [
    "from nltk.corpus import stopwords\n",
    "from nltk.stem.porter import PorterStemmer\n",
    "import re"
   ]
  },
  {
   "attachments": {},
   "cell_type": "markdown",
   "metadata": {},
   "source": [
    "Preprocess data i.e remove unecessary characters and stopwards"
   ]
  },
  {
   "cell_type": "code",
   "execution_count": 62,
   "metadata": {},
   "outputs": [],
   "source": [
    "ps = PorterStemmer()\n",
    "corpus = []\n",
    "for i in range(0, len(messages)):\n",
    "    review = re.sub('[^a-zA-Z]', ' ', messages['title'][i])\n",
    "    review = review.lower()\n",
    "    review = review.split()\n",
    "    \n",
    "    review = [ps.stem(word) for word in review if not word in stopwords.words('english')]\n",
    "    review = ' '.join(review)\n",
    "    corpus.append(review)"
   ]
  },
  {
   "attachments": {},
   "cell_type": "markdown",
   "metadata": {},
   "source": [
    "Apply count vectorizer i.e Bag Of Words or Can apply TFIdf"
   ]
  },
  {
   "cell_type": "code",
   "execution_count": 63,
   "metadata": {},
   "outputs": [],
   "source": [
    "## Applying Countvectorizer\n",
    "# Creating the Bag of Words model\n",
    "# from sklearn.feature_extraction.text import CountVectorizer\n",
    "# cv = CountVectorizer(max_features=5000,ngram_range=(1,3))\n",
    "# X = cv.fit_transform(corpus).toarray()\n",
    "\n",
    "## TFidf Vectorizer\n",
    "from sklearn.feature_extraction.text import TfidfVectorizer\n",
    "tfidf_v=TfidfVectorizer(max_features=5000,ngram_range=(1,3))\n",
    "X=tfidf_v.fit_transform(corpus).toarray()"
   ]
  },
  {
   "cell_type": "code",
   "execution_count": 64,
   "metadata": {},
   "outputs": [
    {
     "data": {
      "text/plain": [
       "(18285, 5000)"
      ]
     },
     "execution_count": 64,
     "metadata": {},
     "output_type": "execute_result"
    }
   ],
   "source": [
    "X.shape"
   ]
  },
  {
   "cell_type": "code",
   "execution_count": 65,
   "metadata": {},
   "outputs": [],
   "source": [
    "y = messages['label']"
   ]
  },
  {
   "attachments": {},
   "cell_type": "markdown",
   "metadata": {},
   "source": [
    "Divide Dataset into Train and Test"
   ]
  },
  {
   "cell_type": "code",
   "execution_count": 66,
   "metadata": {},
   "outputs": [],
   "source": [
    "## Divide the dataset into Train and Test\n",
    "from sklearn.model_selection import train_test_split\n",
    "X_train, X_test, y_train, y_test = train_test_split(X, y, test_size=0.33, random_state=0)"
   ]
  },
  {
   "cell_type": "code",
   "execution_count": 67,
   "metadata": {},
   "outputs": [
    {
     "data": {
      "text/plain": [
       "array(['abandon', 'abc', 'abc news', 'abduct', 'abe', 'abedin', 'abl',\n",
       "       'abort', 'abroad', 'absolut', 'abstain', 'absurd', 'abus',\n",
       "       'abus new', 'abus new york', 'academi', 'accept', 'access',\n",
       "       'access pipelin', 'access pipelin protest'], dtype=object)"
      ]
     },
     "execution_count": 67,
     "metadata": {},
     "output_type": "execute_result"
    }
   ],
   "source": [
    "cv.get_feature_names_out()[:20]"
   ]
  },
  {
   "cell_type": "code",
   "execution_count": 68,
   "metadata": {},
   "outputs": [
    {
     "data": {
      "text/plain": [
       "{'analyzer': 'word',\n",
       " 'binary': False,\n",
       " 'decode_error': 'strict',\n",
       " 'dtype': numpy.int64,\n",
       " 'encoding': 'utf-8',\n",
       " 'input': 'content',\n",
       " 'lowercase': True,\n",
       " 'max_df': 1.0,\n",
       " 'max_features': 5000,\n",
       " 'min_df': 1,\n",
       " 'ngram_range': (1, 3),\n",
       " 'preprocessor': None,\n",
       " 'stop_words': None,\n",
       " 'strip_accents': None,\n",
       " 'token_pattern': '(?u)\\\\b\\\\w\\\\w+\\\\b',\n",
       " 'tokenizer': None,\n",
       " 'vocabulary': None}"
      ]
     },
     "execution_count": 68,
     "metadata": {},
     "output_type": "execute_result"
    }
   ],
   "source": [
    "cv.get_params()"
   ]
  },
  {
   "cell_type": "code",
   "execution_count": 69,
   "metadata": {},
   "outputs": [],
   "source": [
    "count_df = pd.DataFrame(X_train, columns=cv.get_feature_names_out())"
   ]
  },
  {
   "cell_type": "code",
   "execution_count": 70,
   "metadata": {},
   "outputs": [
    {
     "data": {
      "text/html": [
       "<div>\n",
       "<style scoped>\n",
       "    .dataframe tbody tr th:only-of-type {\n",
       "        vertical-align: middle;\n",
       "    }\n",
       "\n",
       "    .dataframe tbody tr th {\n",
       "        vertical-align: top;\n",
       "    }\n",
       "\n",
       "    .dataframe thead th {\n",
       "        text-align: right;\n",
       "    }\n",
       "</style>\n",
       "<table border=\"1\" class=\"dataframe\">\n",
       "  <thead>\n",
       "    <tr style=\"text-align: right;\">\n",
       "      <th></th>\n",
       "      <th>abandon</th>\n",
       "      <th>abc</th>\n",
       "      <th>abc news</th>\n",
       "      <th>abduct</th>\n",
       "      <th>abe</th>\n",
       "      <th>abedin</th>\n",
       "      <th>abl</th>\n",
       "      <th>abort</th>\n",
       "      <th>abroad</th>\n",
       "      <th>absolut</th>\n",
       "      <th>...</th>\n",
       "      <th>zero</th>\n",
       "      <th>zika</th>\n",
       "      <th>zika viru</th>\n",
       "      <th>zionist</th>\n",
       "      <th>zone</th>\n",
       "      <th>zone new</th>\n",
       "      <th>zone new york</th>\n",
       "      <th>zoo</th>\n",
       "      <th>zu</th>\n",
       "      <th>zuckerberg</th>\n",
       "    </tr>\n",
       "  </thead>\n",
       "  <tbody>\n",
       "    <tr>\n",
       "      <th>0</th>\n",
       "      <td>0.0</td>\n",
       "      <td>0.0</td>\n",
       "      <td>0.0</td>\n",
       "      <td>0.0</td>\n",
       "      <td>0.0</td>\n",
       "      <td>0.0</td>\n",
       "      <td>0.0</td>\n",
       "      <td>0.0</td>\n",
       "      <td>0.0</td>\n",
       "      <td>0.000000</td>\n",
       "      <td>...</td>\n",
       "      <td>0.0</td>\n",
       "      <td>0.0</td>\n",
       "      <td>0.0</td>\n",
       "      <td>0.0</td>\n",
       "      <td>0.0</td>\n",
       "      <td>0.0</td>\n",
       "      <td>0.0</td>\n",
       "      <td>0.0</td>\n",
       "      <td>0.0</td>\n",
       "      <td>0.0</td>\n",
       "    </tr>\n",
       "    <tr>\n",
       "      <th>1</th>\n",
       "      <td>0.0</td>\n",
       "      <td>0.0</td>\n",
       "      <td>0.0</td>\n",
       "      <td>0.0</td>\n",
       "      <td>0.0</td>\n",
       "      <td>0.0</td>\n",
       "      <td>0.0</td>\n",
       "      <td>0.0</td>\n",
       "      <td>0.0</td>\n",
       "      <td>0.000000</td>\n",
       "      <td>...</td>\n",
       "      <td>0.0</td>\n",
       "      <td>0.0</td>\n",
       "      <td>0.0</td>\n",
       "      <td>0.0</td>\n",
       "      <td>0.0</td>\n",
       "      <td>0.0</td>\n",
       "      <td>0.0</td>\n",
       "      <td>0.0</td>\n",
       "      <td>0.0</td>\n",
       "      <td>0.0</td>\n",
       "    </tr>\n",
       "    <tr>\n",
       "      <th>2</th>\n",
       "      <td>0.0</td>\n",
       "      <td>0.0</td>\n",
       "      <td>0.0</td>\n",
       "      <td>0.0</td>\n",
       "      <td>0.0</td>\n",
       "      <td>0.0</td>\n",
       "      <td>0.0</td>\n",
       "      <td>0.0</td>\n",
       "      <td>0.0</td>\n",
       "      <td>0.000000</td>\n",
       "      <td>...</td>\n",
       "      <td>0.0</td>\n",
       "      <td>0.0</td>\n",
       "      <td>0.0</td>\n",
       "      <td>0.0</td>\n",
       "      <td>0.0</td>\n",
       "      <td>0.0</td>\n",
       "      <td>0.0</td>\n",
       "      <td>0.0</td>\n",
       "      <td>0.0</td>\n",
       "      <td>0.0</td>\n",
       "    </tr>\n",
       "    <tr>\n",
       "      <th>3</th>\n",
       "      <td>0.0</td>\n",
       "      <td>0.0</td>\n",
       "      <td>0.0</td>\n",
       "      <td>0.0</td>\n",
       "      <td>0.0</td>\n",
       "      <td>0.0</td>\n",
       "      <td>0.0</td>\n",
       "      <td>0.0</td>\n",
       "      <td>0.0</td>\n",
       "      <td>0.000000</td>\n",
       "      <td>...</td>\n",
       "      <td>0.0</td>\n",
       "      <td>0.0</td>\n",
       "      <td>0.0</td>\n",
       "      <td>0.0</td>\n",
       "      <td>0.0</td>\n",
       "      <td>0.0</td>\n",
       "      <td>0.0</td>\n",
       "      <td>0.0</td>\n",
       "      <td>0.0</td>\n",
       "      <td>0.0</td>\n",
       "    </tr>\n",
       "    <tr>\n",
       "      <th>4</th>\n",
       "      <td>0.0</td>\n",
       "      <td>0.0</td>\n",
       "      <td>0.0</td>\n",
       "      <td>0.0</td>\n",
       "      <td>0.0</td>\n",
       "      <td>0.0</td>\n",
       "      <td>0.0</td>\n",
       "      <td>0.0</td>\n",
       "      <td>0.0</td>\n",
       "      <td>0.305244</td>\n",
       "      <td>...</td>\n",
       "      <td>0.0</td>\n",
       "      <td>0.0</td>\n",
       "      <td>0.0</td>\n",
       "      <td>0.0</td>\n",
       "      <td>0.0</td>\n",
       "      <td>0.0</td>\n",
       "      <td>0.0</td>\n",
       "      <td>0.0</td>\n",
       "      <td>0.0</td>\n",
       "      <td>0.0</td>\n",
       "    </tr>\n",
       "  </tbody>\n",
       "</table>\n",
       "<p>5 rows × 5000 columns</p>\n",
       "</div>"
      ],
      "text/plain": [
       "   abandon  abc  abc news  abduct  abe  abedin  abl  abort  abroad   absolut  \\\n",
       "0      0.0  0.0       0.0     0.0  0.0     0.0  0.0    0.0     0.0  0.000000   \n",
       "1      0.0  0.0       0.0     0.0  0.0     0.0  0.0    0.0     0.0  0.000000   \n",
       "2      0.0  0.0       0.0     0.0  0.0     0.0  0.0    0.0     0.0  0.000000   \n",
       "3      0.0  0.0       0.0     0.0  0.0     0.0  0.0    0.0     0.0  0.000000   \n",
       "4      0.0  0.0       0.0     0.0  0.0     0.0  0.0    0.0     0.0  0.305244   \n",
       "\n",
       "   ...  zero  zika  zika viru  zionist  zone  zone new  zone new york  zoo  \\\n",
       "0  ...   0.0   0.0        0.0      0.0   0.0       0.0            0.0  0.0   \n",
       "1  ...   0.0   0.0        0.0      0.0   0.0       0.0            0.0  0.0   \n",
       "2  ...   0.0   0.0        0.0      0.0   0.0       0.0            0.0  0.0   \n",
       "3  ...   0.0   0.0        0.0      0.0   0.0       0.0            0.0  0.0   \n",
       "4  ...   0.0   0.0        0.0      0.0   0.0       0.0            0.0  0.0   \n",
       "\n",
       "    zu  zuckerberg  \n",
       "0  0.0         0.0  \n",
       "1  0.0         0.0  \n",
       "2  0.0         0.0  \n",
       "3  0.0         0.0  \n",
       "4  0.0         0.0  \n",
       "\n",
       "[5 rows x 5000 columns]"
      ]
     },
     "execution_count": 70,
     "metadata": {},
     "output_type": "execute_result"
    }
   ],
   "source": [
    "count_df.head()"
   ]
  },
  {
   "cell_type": "code",
   "execution_count": 71,
   "metadata": {},
   "outputs": [],
   "source": [
    "import matplotlib.pyplot as plt"
   ]
  },
  {
   "cell_type": "code",
   "execution_count": 72,
   "metadata": {},
   "outputs": [],
   "source": [
    "def plot_confusion_matrix(cm, classes,\n",
    "                          normalize=False,\n",
    "                          title='Confusion matrix',\n",
    "                          cmap=plt.cm.Blues):\n",
    "    \"\"\"\n",
    "    See full source and example: \n",
    "    http://scikit-learn.org/stable/auto_examples/model_selection/plot_confusion_matrix.html\n",
    "    \n",
    "    This function prints and plots the confusion matrix.\n",
    "    Normalization can be applied by setting `normalize=True`.\n",
    "    \"\"\"\n",
    "    plt.imshow(cm, interpolation='nearest', cmap=cmap)\n",
    "    plt.title(title)\n",
    "    plt.colorbar()\n",
    "    tick_marks = np.arange(len(classes))\n",
    "    plt.xticks(tick_marks, classes, rotation=45)\n",
    "    plt.yticks(tick_marks, classes)\n",
    "\n",
    "    if normalize:\n",
    "        cm = cm.astype('float') / cm.sum(axis=1)[:, np.newaxis]\n",
    "        print(\"Normalized confusion matrix\")\n",
    "    else:\n",
    "        print('Confusion matrix, without normalization')\n",
    "\n",
    "    thresh = cm.max() / 2.\n",
    "    for i, j in itertools.product(range(cm.shape[0]), range(cm.shape[1])):\n",
    "        plt.text(j, i, cm[i, j],\n",
    "                 horizontalalignment=\"center\",\n",
    "                 color=\"white\" if cm[i, j] > thresh else \"black\")\n",
    "\n",
    "    plt.tight_layout()\n",
    "    plt.ylabel('True label')\n",
    "    plt.xlabel('Predicted label')"
   ]
  },
  {
   "attachments": {},
   "cell_type": "markdown",
   "metadata": {},
   "source": [
    "#### MultinomialMB Algorithm"
   ]
  },
  {
   "cell_type": "code",
   "execution_count": 73,
   "metadata": {},
   "outputs": [],
   "source": [
    "from sklearn.naive_bayes import MultinomialNB\n",
    "classifier=MultinomialNB()"
   ]
  },
  {
   "cell_type": "code",
   "execution_count": 74,
   "metadata": {},
   "outputs": [],
   "source": [
    "from sklearn import metrics\n",
    "import numpy as np\n",
    "import itertools"
   ]
  },
  {
   "cell_type": "code",
   "execution_count": 75,
   "metadata": {},
   "outputs": [
    {
     "name": "stdout",
     "output_type": "stream",
     "text": [
      "accuracy:   0.881\n",
      "Confusion matrix, without normalization\n"
     ]
    },
    {
     "data": {
      "image/png": "[encoded data removed]",
      "text/plain": [
       "<Figure size 640x480 with 2 Axes>"
      ]
     },
     "metadata": {},
     "output_type": "display_data"
    }
   ],
   "source": [
    "classifier.fit(X_train, y_train)\n",
    "pred = classifier.predict(X_test)\n",
    "score = metrics.accuracy_score(y_test, pred)\n",
    "print(\"accuracy:   %0.3f\" % score)\n",
    "cm = metrics.confusion_matrix(y_test, pred)\n",
    "plot_confusion_matrix(cm, classes=['FAKE', 'REAL'])"
   ]
  },
  {
   "cell_type": "code",
   "execution_count": 76,
   "metadata": {},
   "outputs": [
    {
     "data": {
      "text/plain": [
       "0.8810273405136703"
      ]
     },
     "execution_count": 76,
     "metadata": {},
     "output_type": "execute_result"
    }
   ],
   "source": [
    "classifier.fit(X_train, y_train)\n",
    "pred = classifier.predict(X_test)\n",
    "score = metrics.accuracy_score(y_test, pred)\n",
    "score"
   ]
  },
  {
   "attachments": {},
   "cell_type": "markdown",
   "metadata": {},
   "source": [
    "#### Passive Aggressive Classifier Algorithm"
   ]
  },
  {
   "cell_type": "code",
   "execution_count": 77,
   "metadata": {},
   "outputs": [],
   "source": [
    "from sklearn.linear_model import PassiveAggressiveClassifier\n",
    "linear_clf = PassiveAggressiveClassifier(max_iter=50)"
   ]
  },
  {
   "cell_type": "code",
   "execution_count": 78,
   "metadata": {},
   "outputs": [
    {
     "name": "stdout",
     "output_type": "stream",
     "text": [
      "accuracy:   0.916\n",
      "Confusion matrix, without normalization\n"
     ]
    },
    {
     "data": {
      "image/png": "[encoded data removed]",
      "text/plain": [
       "<Figure size 640x480 with 2 Axes>"
      ]
     },
     "metadata": {},
     "output_type": "display_data"
    }
   ],
   "source": [
    "linear_clf.fit(X_train, y_train)\n",
    "pred = linear_clf.predict(X_test)\n",
    "score = metrics.accuracy_score(y_test, pred)\n",
    "print(\"accuracy:   %0.3f\" % score)\n",
    "cm = metrics.confusion_matrix(y_test, pred)\n",
    "plot_confusion_matrix(cm, classes=['FAKE Data', 'REAL Data'])"
   ]
  },
  {
   "attachments": {},
   "cell_type": "markdown",
   "metadata": {},
   "source": [
    "####"
   ]
  },
  {
   "attachments": {},
   "cell_type": "markdown",
   "metadata": {},
   "source": [
    "#### Multinomial Classifier with Hyperparameter"
   ]
  },
  {
   "cell_type": "code",
   "execution_count": 79,
   "metadata": {},
   "outputs": [],
   "source": [
    "classifier=MultinomialNB(alpha=0.1)"
   ]
  },
  {
   "cell_type": "code",
   "execution_count": 80,
   "metadata": {},
   "outputs": [
    {
     "name": "stderr",
     "output_type": "stream",
     "text": [
      "c:\\Users\\ateet\\miniconda3\\envs\\minimal_ds\\lib\\site-packages\\sklearn\\naive_bayes.py:627: FutureWarning: The default value for `force_alpha` will change to `True` in 1.4. To suppress this warning, manually set the value of `force_alpha`.\n",
      "  warnings.warn(\n",
      "c:\\Users\\ateet\\miniconda3\\envs\\minimal_ds\\lib\\site-packages\\sklearn\\naive_bayes.py:633: UserWarning: alpha too small will result in numeric errors, setting alpha = 1.0e-10. Use `force_alpha=True` to keep alpha unchanged.\n",
      "  warnings.warn(\n"
     ]
    },
    {
     "name": "stdout",
     "output_type": "stream",
     "text": [
      "Alpha: 0.0, Score : 0.8662800331400166\n",
      "Alpha: 0.1, Score : 0.8777133388566695\n",
      "Alpha: 0.2, Score : 0.8801988400994201\n",
      "Alpha: 0.30000000000000004, Score : 0.87986743993372\n",
      "Alpha: 0.4, Score : 0.8808616404308203\n",
      "Alpha: 0.5, Score : 0.8806959403479702\n",
      "Alpha: 0.6000000000000001, Score : 0.8815244407622204\n",
      "Alpha: 0.7000000000000001, Score : 0.8813587406793704\n",
      "Alpha: 0.8, Score : 0.8816901408450705\n",
      "Alpha: 0.9, Score : 0.8816901408450705\n"
     ]
    }
   ],
   "source": [
    "previous_score=0\n",
    "for alpha in np.arange(0,1,0.1):\n",
    "    sub_classifier=MultinomialNB(alpha=alpha)\n",
    "    sub_classifier.fit(X_train,y_train)\n",
    "    y_pred=sub_classifier.predict(X_test)\n",
    "    score = metrics.accuracy_score(y_test, y_pred)\n",
    "    if score>previous_score:\n",
    "        classifier=sub_classifier\n",
    "    print(\"Alpha: {}, Score : {}\".format(alpha,score))"
   ]
  },
  {
   "cell_type": "code",
   "execution_count": 81,
   "metadata": {},
   "outputs": [],
   "source": [
    "## Get Features names\n",
    "feature_names = cv.get_feature_names_out()"
   ]
  },
  {
   "cell_type": "code",
   "execution_count": 82,
   "metadata": {},
   "outputs": [
    {
     "data": {
      "text/plain": [
       "array([ -8.59813984,  -8.64311917,  -9.67080665, ...,  -9.40176836,\n",
       "       -10.25997178,  -8.97209716])"
      ]
     },
     "execution_count": 82,
     "metadata": {},
     "output_type": "execute_result"
    }
   ],
   "source": [
    "classifier.feature_log_prob_[0]"
   ]
  },
  {
   "attachments": {},
   "cell_type": "markdown",
   "metadata": {},
   "source": [
    "#### Most real news"
   ]
  },
  {
   "cell_type": "code",
   "execution_count": 83,
   "metadata": {},
   "outputs": [
    {
     "data": {
      "text/plain": [
       "[(-3.9497603498825393, 'new'),\n",
       " (-3.9689481006947727, 'york'),\n",
       " (-3.969032969681349, 'new york'),\n",
       " (-3.9728936199761264, 'time'),\n",
       " (-3.979866660651135, 'york time'),\n",
       " (-3.979866660651135, 'new york time'),\n",
       " (-4.6215808113530885, 'breitbart'),\n",
       " (-4.797902430598906, 'trump'),\n",
       " (-5.666344542746281, 'donald'),\n",
       " (-5.669113589614728, 'donald trump'),\n",
       " (-6.0459788417963765, 'say'),\n",
       " (-6.244307613966833, 'obama'),\n",
       " (-6.323461418144095, 'presid'),\n",
       " (-6.352839646565577, 'state'),\n",
       " (-6.356125020747031, 'attack'),\n",
       " (-6.388987201018693, 'report'),\n",
       " (-6.448929663358422, 'hous'),\n",
       " (-6.45906496727267, 'clinton'),\n",
       " (-6.5372098092978606, 'brief'),\n",
       " (-6.577300430009248, 'kill')]"
      ]
     },
     "execution_count": 83,
     "metadata": {},
     "output_type": "execute_result"
    }
   ],
   "source": [
    "### Most real\n",
    "sorted(zip(classifier.feature_log_prob_[0], feature_names), reverse=True)[:20]"
   ]
  },
  {
   "attachments": {},
   "cell_type": "markdown",
   "metadata": {},
   "source": [
    "#### Most fake"
   ]
  },
  {
   "cell_type": "code",
   "execution_count": 84,
   "metadata": {},
   "outputs": [
    {
     "data": {
      "text/plain": [
       "[(-10.259971779167145, 'access pipelin protest'),\n",
       " (-10.259971779167145, 'acknowledg emf'),\n",
       " (-10.259971779167145, 'acknowledg emf damag'),\n",
       " (-10.259971779167145, 'acquit'),\n",
       " (-10.259971779167145, 'acr'),\n",
       " (-10.259971779167145, 'adhd'),\n",
       " (-10.259971779167145, 'airstrik kill'),\n",
       " (-10.259971779167145, 'al nusra'),\n",
       " (-10.259971779167145, 'america last'),\n",
       " (-10.259971779167145, 'america vote'),\n",
       " (-10.259971779167145, 'american concern'),\n",
       " (-10.259971779167145, 'american concern elect'),\n",
       " (-10.259971779167145, 'american peopl defeat'),\n",
       " (-10.259971779167145, 'aqsa'),\n",
       " (-10.259971779167145, 'arabian'),\n",
       " (-10.259971779167145, 'ariel noyola'),\n",
       " (-10.259971779167145, 'ariel noyola rodr'),\n",
       " (-10.259971779167145, 'ask question'),\n",
       " (-10.259971779167145, 'auf'),\n",
       " (-10.259971779167145, 'avail'),\n",
       " (-10.259971779167145, 'babi powder'),\n",
       " (-10.259971779167145, 'bad news'),\n",
       " (-10.259971779167145, 'badg'),\n",
       " (-10.259971779167145, 'ballot'),\n",
       " (-10.259971779167145, 'baltic'),\n",
       " (-10.259971779167145, 'banana'),\n",
       " (-10.259971779167145, 'banana republ'),\n",
       " (-10.259971779167145, 'barack obama delay'),\n",
       " (-10.259971779167145, 'beg'),\n",
       " (-10.259971779167145, 'behind trump'),\n",
       " (-10.259971779167145, 'bewar'),\n",
       " (-10.259971779167145, 'bias'),\n",
       " (-10.259971779167145, 'big pharma'),\n",
       " (-10.259971779167145, 'bishop'),\n",
       " (-10.259971779167145, 'black agenda'),\n",
       " (-10.259971779167145, 'bombshel'),\n",
       " (-10.259971779167145, 'bonus'),\n",
       " (-10.259971779167145, 'bottom'),\n",
       " (-10.259971779167145, 'break fbi'),\n",
       " (-10.259971779167145, 'break trump'),\n",
       " (-10.259971779167145, 'bribe'),\n",
       " (-10.259971779167145, 'buildup'),\n",
       " (-10.259971779167145, 'cafe open'),\n",
       " (-10.259971779167145, 'cafe open thread'),\n",
       " (-10.259971779167145, 'camp polic'),\n",
       " (-10.259971779167145, 'campaign chair'),\n",
       " (-10.259971779167145, 'campaign tri'),\n",
       " (-10.259971779167145, 'campaign tri hack'),\n",
       " (-10.259971779167145, 'cancer cell'),\n",
       " (-10.259971779167145, 'cannabi'),\n",
       " (-10.259971779167145, 'cartoon'),\n",
       " (-10.259971779167145, 'case testimoni'),\n",
       " (-10.259971779167145, 'case testimoni pennsylvania'),\n",
       " (-10.259971779167145, 'caught tape'),\n",
       " (-10.259971779167145, 'cdc'),\n",
       " (-10.259971779167145, 'chaffetz'),\n",
       " (-10.259971779167145, 'charg obstruct'),\n",
       " (-10.259971779167145, 'charg obstruct justic'),\n",
       " (-10.259971779167145, 'chart day'),\n",
       " (-10.259971779167145, 'christ'),\n",
       " (-10.259971779167145, 'civil unrest'),\n",
       " (-10.259971779167145, 'civil unrest survey'),\n",
       " (-10.259971779167145, 'clinton camp'),\n",
       " (-10.259971779167145, 'clinton campaign chair'),\n",
       " (-10.259971779167145, 'clinton crime'),\n",
       " (-10.259971779167145, 'clinton crime famili'),\n",
       " (-10.259971779167145, 'clinton elect'),\n",
       " (-10.259971779167145, 'clinton inc'),\n",
       " (-10.259971779167145, 'clinton presid'),\n",
       " (-10.259971779167145, 'clinton propos'),\n",
       " (-10.259971779167145, 'clinton propos rig'),\n",
       " (-10.259971779167145, 'clinton vote'),\n",
       " (-10.259971779167145, 'clown'),\n",
       " (-10.259971779167145, 'coconut'),\n",
       " (-10.259971779167145, 'codesod'),\n",
       " (-10.259971779167145, 'collect evolut'),\n",
       " (-10.259971779167145, 'color revolut'),\n",
       " (-10.259971779167145, 'comment hillari'),\n",
       " (-10.259971779167145, 'comment hillari clinton'),\n",
       " (-10.259971779167145, 'commiss one'),\n",
       " (-10.259971779167145, 'commiss one want'),\n",
       " (-10.259971779167145, 'concern elect'),\n",
       " (-10.259971779167145, 'concern elect violenc'),\n",
       " (-10.259971779167145, 'conscious'),\n",
       " (-10.259971779167145, 'conserv daili'),\n",
       " (-10.259971779167145, 'conserv daili post'),\n",
       " (-10.259971779167145, 'contrarian'),\n",
       " (-10.259971779167145, 'contrarian read'),\n",
       " (-10.259971779167145, 'cooler'),\n",
       " (-10.259971779167145, 'coordin'),\n",
       " (-10.259971779167145, 'costum'),\n",
       " (-10.259971779167145, 'could go prison'),\n",
       " (-10.259971779167145, 'craig robert'),\n",
       " (-10.259971779167145, 'craze'),\n",
       " (-10.259971779167145, 'creamer'),\n",
       " (-10.259971779167145, 'creepi'),\n",
       " (-10.259971779167145, 'crook hillari'),\n",
       " (-10.259971779167145, 'crop'),\n",
       " (-10.259971779167145, 'crucial'),\n",
       " (-10.259971779167145, 'cult'),\n",
       " (-10.259971779167145, 'daesh'),\n",
       " (-10.259971779167145, 'daili contrarian'),\n",
       " (-10.259971779167145, 'daili contrarian read'),\n",
       " (-10.259971779167145, 'daili post'),\n",
       " (-10.259971779167145, 'damn'),\n",
       " (-10.259971779167145, 'dapl'),\n",
       " (-10.259971779167145, 'dapl protest'),\n",
       " (-10.259971779167145, 'day elect'),\n",
       " (-10.259971779167145, 'de la'),\n",
       " (-10.259971779167145, 'de lo'),\n",
       " (-10.259971779167145, 'dea'),\n",
       " (-10.259971779167145, 'debbi menon'),\n",
       " (-10.259971779167145, 'decor'),\n",
       " (-10.259971779167145, 'defeat oligarchi'),\n",
       " (-10.259971779167145, 'defeat oligarchi rule'),\n",
       " (-10.259971779167145, 'del'),\n",
       " (-10.259971779167145, 'delay suspend'),\n",
       " (-10.259971779167145, 'delay suspend elect'),\n",
       " (-10.259971779167145, 'demonetis'),\n",
       " (-10.259971779167145, 'den'),\n",
       " (-10.259971779167145, 'der'),\n",
       " (-10.259971779167145, 'design fail'),\n",
       " (-10.259971779167145, 'destroy trump'),\n",
       " (-10.259971779167145, 'devast'),\n",
       " (-10.259971779167145, 'diabet'),\n",
       " (-10.259971779167145, 'dinucci'),\n",
       " (-10.259971779167145, 'director comey'),\n",
       " (-10.259971779167145, 'disabl'),\n",
       " (-10.259971779167145, 'disgust'),\n",
       " (-10.259971779167145, 'disord'),\n",
       " (-10.259971779167145, 'dr david'),\n",
       " (-10.259971779167145, 'dr david duke'),\n",
       " (-10.259971779167145, 'dr duke'),\n",
       " (-10.259971779167145, 'dr eowyn'),\n",
       " (-10.259971779167145, 'duck'),\n",
       " (-10.259971779167145, 'eastern outlook'),\n",
       " (-10.259971779167145, 'ein'),\n",
       " (-10.259971779167145, 'elect fraud'),\n",
       " (-10.259971779167145, 'elect hillari'),\n",
       " (-10.259971779167145, 'elect hillari forc'),\n",
       " (-10.259971779167145, 'elect night'),\n",
       " (-10.259971779167145, 'elect paul'),\n",
       " (-10.259971779167145, 'elect paul craig'),\n",
       " (-10.259971779167145, 'elect rig'),\n",
       " (-10.259971779167145, 'elect video'),\n",
       " (-10.259971779167145, 'elect violenc'),\n",
       " (-10.259971779167145, 'electr'),\n",
       " (-10.259971779167145, 'electron vote'),\n",
       " (-10.259971779167145, 'electron vote machin'),\n",
       " (-10.259971779167145, 'email clinton'),\n",
       " (-10.259971779167145, 'email found'),\n",
       " (-10.259971779167145, 'email reveal'),\n",
       " (-10.259971779167145, 'emf'),\n",
       " (-10.259971779167145, 'emf damag'),\n",
       " (-10.259971779167145, 'en el'),\n",
       " (-10.259971779167145, 'end hillari'),\n",
       " (-10.259971779167145, 'end hillari clinton'),\n",
       " (-10.259971779167145, 'entertain'),\n",
       " (-10.259971779167145, 'eowyn'),\n",
       " (-10.259971779167145, 'eras'),\n",
       " (-10.259971779167145, 'euro'),\n",
       " (-10.259971779167145, 'everywher'),\n",
       " (-10.259971779167145, 'expos hillari'),\n",
       " (-10.259971779167145, 'fame star'),\n",
       " (-10.259971779167145, 'farm grow'),\n",
       " (-10.259971779167145, 'fascin'),\n",
       " (-10.259971779167145, 'fbi agent'),\n",
       " (-10.259971779167145, 'fbi clinton'),\n",
       " (-10.259971779167145, 'fbi director comey'),\n",
       " (-10.259971779167145, 'fbi email'),\n",
       " (-10.259971779167145, 'fbi email investig'),\n",
       " (-10.259971779167145, 'fbi investig'),\n",
       " (-10.259971779167145, 'fbi reopen'),\n",
       " (-10.259971779167145, 'fbi reopen hillari'),\n",
       " (-10.259971779167145, 'fbi reopen investig'),\n",
       " (-10.259971779167145, 'fda'),\n",
       " (-10.259971779167145, 'feast cafe'),\n",
       " (-10.259971779167145, 'feast cafe open'),\n",
       " (-10.259971779167145, 'find american concern'),\n",
       " (-10.259971779167145, 'fli zone'),\n",
       " (-10.259971779167145, 'flu'),\n",
       " (-10.259971779167145, 'fluorid'),\n",
       " (-10.259971779167145, 'forc new fbi'),\n",
       " (-10.259971779167145, 'former congressman'),\n",
       " (-10.259971779167145, 'freedom rider'),\n",
       " (-10.259971779167145, 'fuck'),\n",
       " (-10.259971779167145, 'furiou'),\n",
       " (-10.259971779167145, 'get readi civil'),\n",
       " (-10.259971779167145, 'gmo'),\n",
       " (-10.259971779167145, 'go prison year'),\n",
       " (-10.259971779167145, 'gold silver'),\n",
       " (-10.259971779167145, 'grab musket'),\n",
       " (-10.259971779167145, 'gruber'),\n",
       " (-10.259971779167145, 'guardian liberti'),\n",
       " (-10.259971779167145, 'guardian liberti voic'),\n",
       " (-10.259971779167145, 'guez'),\n",
       " (-10.259971779167145, 'hack wikileak'),\n",
       " (-10.259971779167145, 'health benefit'),\n",
       " (-10.259971779167145, 'herb'),\n",
       " (-10.259971779167145, 'hillari campaign'),\n",
       " (-10.259971779167145, 'hillari clinton charg'),\n",
       " (-10.259971779167145, 'hillari clinton propos'),\n",
       " (-10.259971779167145, 'hillari clinton vote'),\n",
       " (-10.259971779167145, 'hillari elect'),\n",
       " (-10.259971779167145, 'hillari forc'),\n",
       " (-10.259971779167145, 'hillari forc new'),\n",
       " (-10.259971779167145, 'hillari investig'),\n",
       " (-10.259971779167145, 'hillari support'),\n",
       " (-10.259971779167145, 'hillari win'),\n",
       " (-10.259971779167145, 'hodg'),\n",
       " (-10.259971779167145, 'homeless woman'),\n",
       " (-10.259971779167145, 'horrifi'),\n",
       " (-10.259971779167145, 'human right council'),\n",
       " (-10.259971779167145, 'iceland'),\n",
       " (-10.259971779167145, 'illeg alien muslim'),\n",
       " (-10.259971779167145, 'illuminati'),\n",
       " (-10.259971779167145, 'im'),\n",
       " (-10.259971779167145, 'imperi'),\n",
       " (-10.259971779167145, 'implod'),\n",
       " (-10.259971779167145, 'incred'),\n",
       " (-10.259971779167145, 'investig hillari'),\n",
       " (-10.259971779167145, 'investig hillari clinton'),\n",
       " (-10.259971779167145, 'iraqi armi'),\n",
       " (-10.259971779167145, 'iraqi troop'),\n",
       " (-10.259971779167145, 'ist'),\n",
       " (-10.259971779167145, 'iv'),\n",
       " (-10.259971779167145, 'jason chaffetz'),\n",
       " (-10.259971779167145, 'johnson johnson'),\n",
       " (-10.259971779167145, 'jungl'),\n",
       " (-10.259971779167145, 'kiev'),\n",
       " (-10.259971779167145, 'kill cancer'),\n",
       " (-10.259971779167145, 'kuznetsov'),\n",
       " (-10.259971779167145, 'leader acquit'),\n",
       " (-10.259971779167145, 'leak audio'),\n",
       " (-10.259971779167145, 'leak email'),\n",
       " (-10.259971779167145, 'let go'),\n",
       " (-10.259971779167145, 'let go new'),\n",
       " (-10.259971779167145, 'lib'),\n",
       " (-10.259971779167145, 'liberti voic'),\n",
       " (-10.259971779167145, 'liberti writer'),\n",
       " (-10.259971779167145, 'liberti writer news'),\n",
       " (-10.259971779167145, 'live blog'),\n",
       " (-10.259971779167145, 'live tv'),\n",
       " (-10.259971779167145, 'lose grab'),\n",
       " (-10.259971779167145, 'lose grab musket'),\n",
       " (-10.259971779167145, 'malheur'),\n",
       " (-10.259971779167145, 'malheur wildlif'),\n",
       " (-10.259971779167145, 'malheur wildlif refug'),\n",
       " (-10.259971779167145, 'manlio'),\n",
       " (-10.259971779167145, 'manlio dinucci'),\n",
       " (-10.259971779167145, 'materi'),\n",
       " (-10.259971779167145, 'matrix'),\n",
       " (-10.259971779167145, 'medit'),\n",
       " (-10.259971779167145, 'menon'),\n",
       " (-10.259971779167145, 'meter case'),\n",
       " (-10.259971779167145, 'meter case testimoni'),\n",
       " (-10.259971779167145, 'meyssan'),\n",
       " (-10.259971779167145, 'militar polic'),\n",
       " (-10.259971779167145, 'monetari'),\n",
       " (-10.259971779167145, 'moveabl'),\n",
       " (-10.259971779167145, 'moveabl feast'),\n",
       " (-10.259971779167145, 'moveabl feast cafe'),\n",
       " (-10.259971779167145, 'musket'),\n",
       " (-10.259971779167145, 'muslim invad'),\n",
       " (-10.259971779167145, 'muslim migrant'),\n",
       " (-10.259971779167145, 'muslim women'),\n",
       " (-10.259971779167145, 'neocon'),\n",
       " (-10.259971779167145, 'new clinton'),\n",
       " (-10.259971779167145, 'new clinton email'),\n",
       " (-10.259971779167145, 'new eastern'),\n",
       " (-10.259971779167145, 'new eastern outlook'),\n",
       " (-10.259971779167145, 'new fbi email'),\n",
       " (-10.259971779167145, 'new moon'),\n",
       " (-10.259971779167145, 'new report'),\n",
       " (-10.259971779167145, 'new world'),\n",
       " (-10.259971779167145, 'new world order'),\n",
       " (-10.259971779167145, 'newstick'),\n",
       " (-10.259971779167145, 'nov'),\n",
       " (-10.259971779167145, 'novemb daili'),\n",
       " (-10.259971779167145, 'novemb daili contrarian'),\n",
       " (-10.259971779167145, 'nuke'),\n",
       " (-10.259971779167145, 'nusra'),\n",
       " (-10.259971779167145, 'obama clinton'),\n",
       " (-10.259971779167145, 'obamacar design'),\n",
       " (-10.259971779167145, 'oct'),\n",
       " (-10.259971779167145, 'octob surpris'),\n",
       " (-10.259971779167145, 'oligarch'),\n",
       " (-10.259971779167145, 'oligarchi'),\n",
       " (-10.259971779167145, 'oligarchi rule'),\n",
       " (-10.259971779167145, 'one want'),\n",
       " (-10.259971779167145, 'one want acknowledg'),\n",
       " (-10.259971779167145, 'open thread'),\n",
       " (-10.259971779167145, 'opinion conserv'),\n",
       " (-10.259971779167145, 'oregon standoff'),\n",
       " (-10.259971779167145, 'os'),\n",
       " (-10.259971779167145, 'overnight'),\n",
       " (-10.259971779167145, 'palestin elect'),\n",
       " (-10.259971779167145, 'paper ballot'),\n",
       " (-10.259971779167145, 'par'),\n",
       " (-10.259971779167145, 'para'),\n",
       " (-10.259971779167145, 'passag'),\n",
       " (-10.259971779167145, 'patholog'),\n",
       " (-10.259971779167145, 'patriot act'),\n",
       " (-10.259971779167145, 'paul craig'),\n",
       " (-10.259971779167145, 'paul craig robert'),\n",
       " (-10.259971779167145, 'paul ryan rel'),\n",
       " (-10.259971779167145, 'pay play'),\n",
       " (-10.259971779167145, 'pennsylvania public'),\n",
       " (-10.259971779167145, 'pennsylvania public util'),\n",
       " (-10.259971779167145, 'peopl defeat'),\n",
       " (-10.259971779167145, 'peopl defeat oligarchi'),\n",
       " (-10.259971779167145, 'percentfedup'),\n",
       " (-10.259971779167145, 'percentfedup com'),\n",
       " (-10.259971779167145, 'peter thiel'),\n",
       " (-10.259971779167145, 'pharma'),\n",
       " (-10.259971779167145, 'physicist'),\n",
       " (-10.259971779167145, 'pilger'),\n",
       " (-10.259971779167145, 'pimp'),\n",
       " (-10.259971779167145, 'piss'),\n",
       " (-10.259971779167145, 'pm water'),\n",
       " (-10.259971779167145, 'pm water cooler'),\n",
       " (-10.259971779167145, 'podesta email'),\n",
       " (-10.259971779167145, 'podestaemail'),\n",
       " (-10.259971779167145, 'poison'),\n",
       " (-10.259971779167145, 'por'),\n",
       " (-10.259971779167145, 'powder'),\n",
       " (-10.259971779167145, 'predict trump'),\n",
       " (-10.259971779167145, 'presstitut'),\n",
       " (-10.259971779167145, 'primer'),\n",
       " (-10.259971779167145, 'project verita'),\n",
       " (-10.259971779167145, 'project verita video'),\n",
       " (-10.259971779167145, 'propos rig'),\n",
       " (-10.259971779167145, 'protector'),\n",
       " (-10.259971779167145, 'public util'),\n",
       " (-10.259971779167145, 'public util commiss'),\n",
       " (-10.259971779167145, 'puppet'),\n",
       " (-10.259971779167145, 'que'),\n",
       " (-10.259971779167145, 'ransom'),\n",
       " (-10.259971779167145, 'rather'),\n",
       " (-10.259971779167145, 'readi civil'),\n",
       " (-10.259971779167145, 'readi civil unrest'),\n",
       " (-10.259971779167145, 'rebuild'),\n",
       " (-10.259971779167145, 'regim chang'),\n",
       " (-10.259971779167145, 'remedi'),\n",
       " (-10.259971779167145, 'reopen hillari'),\n",
       " (-10.259971779167145, 'report novemb'),\n",
       " (-10.259971779167145, 'reveal clinton'),\n",
       " (-10.259971779167145, 'reveal hillari'),\n",
       " (-10.259971779167145, 'rider'),\n",
       " (-10.259971779167145, 'rig elect'),\n",
       " (-10.259971779167145, 'rig palestin'),\n",
       " (-10.259971779167145, 'rig palestin elect'),\n",
       " (-10.259971779167145, 'rodr'),\n",
       " (-10.259971779167145, 'rodr guez'),\n",
       " (-10.259971779167145, 'ron paul'),\n",
       " (-10.259971779167145, 'russian border'),\n",
       " (-10.259971779167145, 'russophobia'),\n",
       " (-10.259971779167145, 'ryan rel'),\n",
       " (-10.259971779167145, 'saker'),\n",
       " (-10.259971779167145, 'saudi arabian'),\n",
       " (-10.259971779167145, 'se'),\n",
       " (-10.259971779167145, 'selfi'),\n",
       " (-10.259971779167145, 'shadow govern'),\n",
       " (-10.259971779167145, 'shock video'),\n",
       " (-10.259971779167145, 'shocker'),\n",
       " (-10.259971779167145, 'show clinton'),\n",
       " (-10.259971779167145, 'sich'),\n",
       " (-10.259971779167145, 'sie'),\n",
       " (-10.259971779167145, 'signific'),\n",
       " (-10.259971779167145, 'sinc cold'),\n",
       " (-10.259971779167145, 'sinc cold war'),\n",
       " (-10.259971779167145, 'sioux'),\n",
       " (-10.259971779167145, 'smart meter'),\n",
       " (-10.259971779167145, 'smart meter case'),\n",
       " (-10.259971779167145, 'steal elect'),\n",
       " (-10.259971779167145, 'steal trump'),\n",
       " (-10.259971779167145, 'surfac'),\n",
       " (-10.259971779167145, 'survey find american'),\n",
       " (-10.259971779167145, 'suspend elect'),\n",
       " (-10.259971779167145, 'suspend elect hillari'),\n",
       " (-10.259971779167145, 'switch trump'),\n",
       " (-10.259971779167145, 'switch vote'),\n",
       " (-10.259971779167145, 'syrian war'),\n",
       " (-10.259971779167145, 'syrian war report'),\n",
       " (-10.259971779167145, 'testimoni pennsylvania'),\n",
       " (-10.259971779167145, 'testimoni pennsylvania public'),\n",
       " (-10.259971779167145, 'thiel'),\n",
       " (-10.259971779167145, 'thierri'),\n",
       " (-10.259971779167145, 'thierri meyssan'),\n",
       " (-10.259971779167145, 'thousand wild'),\n",
       " (-10.259971779167145, 'thread'),\n",
       " (-10.259971779167145, 'thug'),\n",
       " (-10.259971779167145, 'timelin'),\n",
       " (-10.259971779167145, 'tonight'),\n",
       " (-10.259971779167145, 'tri hack'),\n",
       " (-10.259971779167145, 'tri hack wikileak'),\n",
       " (-10.259971779167145, 'trophi'),\n",
       " (-10.259971779167145, 'trump lose grab'),\n",
       " (-10.259971779167145, 'trump need'),\n",
       " (-10.259971779167145, 'trump star'),\n",
       " (-10.259971779167145, 'trump truthfe'),\n",
       " (-10.259971779167145, 'trump video'),\n",
       " (-10.259971779167145, 'trump vote'),\n",
       " (-10.259971779167145, 'truthfe'),\n",
       " (-10.259971779167145, 'tu'),\n",
       " (-10.259971779167145, 'ufo'),\n",
       " (-10.259971779167145, 'una'),\n",
       " (-10.259971779167145, 'unesco'),\n",
       " (-10.259971779167145, 'unrest survey'),\n",
       " (-10.259971779167145, 'unrest survey find'),\n",
       " (-10.259971779167145, 'us airstrik'),\n",
       " (-10.259971779167145, 'us elect'),\n",
       " (-10.259971779167145, 'us intellig'),\n",
       " (-10.259971779167145, 'us militari'),\n",
       " (-10.259971779167145, 'us presid'),\n",
       " (-10.259971779167145, 'usapoliticsnow'),\n",
       " (-10.259971779167145, 'util commiss'),\n",
       " (-10.259971779167145, 'util commiss one'),\n",
       " (-10.259971779167145, 'verita'),\n",
       " (-10.259971779167145, 'verita video'),\n",
       " (-10.259971779167145, 'vertic'),\n",
       " (-10.259971779167145, 'vertic farm'),\n",
       " (-10.259971779167145, 'vertic farm grow'),\n",
       " (-10.259971779167145, 'video expos'),\n",
       " (-10.259971779167145, 'video trump'),\n",
       " (-10.259971779167145, 'vineyard saker'),\n",
       " (-10.259971779167145, 'vote clinton'),\n",
       " (-10.259971779167145, 'vote warmong'),\n",
       " (-10.259971779167145, 'vote warmong hillari'),\n",
       " (-10.259971779167145, 'vote world'),\n",
       " (-10.259971779167145, 'vote world war'),\n",
       " (-10.259971779167145, 'voter suppress'),\n",
       " (-10.259971779167145, 'walk fame'),\n",
       " (-10.259971779167145, 'want acknowledg'),\n",
       " (-10.259971779167145, 'want acknowledg emf'),\n",
       " (-10.259971779167145, 'want know'),\n",
       " (-10.259971779167145, 'war iii'),\n",
       " (-10.259971779167145, 'war report'),\n",
       " (-10.259971779167145, 'war report novemb'),\n",
       " (-10.259971779167145, 'war syria'),\n",
       " (-10.259971779167145, 'warmong'),\n",
       " (-10.259971779167145, 'warmong hillari'),\n",
       " (-10.259971779167145, 'warmong hillari clinton'),\n",
       " (-10.259971779167145, 'watch hillari'),\n",
       " (-10.259971779167145, 'water cooler'),\n",
       " (-10.259971779167145, 'water protector'),\n",
       " (-10.259971779167145, 'weed'),\n",
       " (-10.259971779167145, 'wikileak hillari'),\n",
       " (-10.259971779167145, 'win elect'),\n",
       " (-10.259971779167145, 'wire transfer'),\n",
       " (-10.259971779167145, 'wolf'),\n",
       " (-10.259971779167145, 'world first'),\n",
       " (-10.259971779167145, 'world order'),\n",
       " (-10.259971779167145, 'world war iii'),\n",
       " (-10.259971779167145, 'would look'),\n",
       " (-10.259971779167145, 'wreck'),\n",
       " (-10.259971779167145, 'writer news'),\n",
       " (-10.259971779167145, 'ww'),\n",
       " (-10.259971779167145, 'wwii'),\n",
       " (-10.259971779167145, 'yo'),\n",
       " (-10.259971779167145, 'zionist'),\n",
       " (-10.259971779167145, 'zu'),\n",
       " (-10.004235692191111, 'wikileak email'),\n",
       " (-9.999584307679545, 'blm'),\n",
       " (-9.992358118713243, 'justic depart'),\n",
       " (-9.98935178194163, 'smash'),\n",
       " (-9.978109519099803, 'alert'),\n",
       " (-9.972517608195076, 'email investig'),\n",
       " (-9.96951691038748, 'hillari email'),\n",
       " (-9.969193355950196, 'ultim'),\n",
       " (-9.967044869651106, 'info'),\n",
       " (-9.963861511926229, 'libertarian'),\n",
       " (-9.962576728572431, 'rock protest'),\n",
       " (-9.962576728572431, 'stand rock protest'),\n",
       " (-9.962036884245471, 'republ'),\n",
       " (-9.959869361284484, 'eastern'),\n",
       " (-9.95984417361548, 'bundi'),\n",
       " (-9.959303265555198, 'guess'),\n",
       " (-9.959288970789657, 'blog'),\n",
       " (-9.957089085977207, 'tribun'),\n",
       " (-9.954282725372341, 'new fbi'),\n",
       " (-9.9541853560466, 'smoke gun'),\n",
       " (-9.953686256929696, 'crime famili'),\n",
       " (-9.952154156773547, 'dakota access'),\n",
       " (-9.952106411504896, 'comey letter'),\n",
       " (-9.95193040219344, 'washington state'),\n",
       " (-9.951866612541599, 'despair'),\n",
       " (-9.951740299287543, 'architect'),\n",
       " (-9.950857984074108, 'go prison'),\n",
       " (-9.947044753252467, 'versu'),\n",
       " (-9.946261494827741, 'audio hillari'),\n",
       " (-9.946261494827741, 'audio hillari clinton'),\n",
       " (-9.945026081913126, 'access pipelin'),\n",
       " (-9.945026081913126, 'dakota access pipelin'),\n",
       " (-9.944996920483197, 'weiner laptop'),\n",
       " (-9.944840369194008, 'com'),\n",
       " (-9.943691634191481, 'harri reid'),\n",
       " (-9.942666057258338, 'up'),\n",
       " (-9.942656430636509, 'crook'),\n",
       " (-9.94128502511028, 'david duke')]"
      ]
     },
     "execution_count": 84,
     "metadata": {},
     "output_type": "execute_result"
    }
   ],
   "source": [
    "sorted(zip(classifier.feature_log_prob_[0], feature_names))[:500]"
   ]
  }
 ],
 "metadata": {
  "kernelspec": {
   "display_name": "Python 3",
   "language": "python",
   "name": "python3"
  },
  "language_info": {
   "codemirror_mode": {
    "name": "ipython",
    "version": 3
   },
   "file_extension": ".py",
   "mimetype": "text/x-python",
   "name": "python",
   "nbconvert_exporter": "python",
   "pygments_lexer": "ipython3",
   "version": "3.10.8"
  },
  "orig_nbformat": 4,
  "vscode": {
   "interpreter": {
    "hash": "3b095c78d4d0a65c3f456c494693e1a5b5771f8f860a0a9af68316c2e765deba"
   }
  }
 },
 "nbformat": 4,
 "nbformat_minor": 2
}
